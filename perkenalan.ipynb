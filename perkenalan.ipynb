{
 "cells": [
  {
   "cell_type": "code",
   "execution_count": null,
   "metadata": {},
   "outputs": [],
   "source": [
    "n=\"Abdillah\"\n",
    "ni=\"20090142\"\n",
    "s=\"1\"\n",
    "a=\"ingin belajar lebih dalam bahasa pemrograman dll\"\n",
    "\n",
    "print(\"Nama Saya : \", n)\n",
    "print(\"NIM Saya : \", ni)\n",
    "print(\"semester : \", s)\n",
    "print(\"alasan ikut : \", a)"
   ]
  }
 ],
 "metadata": {
  "kernelspec": {
   "display_name": "Python 3",
   "language": "python",
   "name": "python3"
  },
  "language_info": {
   "codemirror_mode": {
    "name": "ipython",
    "version": 3
   },
   "file_extension": ".py",
   "mimetype": "text/x-python",
   "name": "python",
   "nbconvert_exporter": "python",
   "pygments_lexer": "ipython3",
   "version": "3.8.3"
  }
 },
 "nbformat": 4,
 "nbformat_minor": 4
}
